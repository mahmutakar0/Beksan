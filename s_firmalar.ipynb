{
  "nbformat": 4,
  "nbformat_minor": 0,
  "metadata": {
    "colab": {
      "provenance": [],
      "authorship_tag": "ABX9TyOrVkR5jcxhdmcyZaD1n2Yw",
      "include_colab_link": true
    },
    "kernelspec": {
      "name": "python3",
      "display_name": "Python 3"
    },
    "language_info": {
      "name": "python"
    }
  },
  "cells": [
    {
      "cell_type": "markdown",
      "metadata": {
        "id": "view-in-github",
        "colab_type": "text"
      },
      "source": [
        "<a href=\"https://colab.research.google.com/github/mahmutakar0/Beksan/blob/main/s_firmalar.ipynb\" target=\"_parent\"><img src=\"https://colab.research.google.com/assets/colab-badge.svg\" alt=\"Open In Colab\"/></a>"
      ]
    },
    {
      "cell_type": "code",
      "execution_count": null,
      "metadata": {
        "id": "m8IVuGGc7BFA"
      },
      "outputs": [],
      "source": [
        "# PRIMESOURCE firmasının tanımlanması\n",
        "df = dfc[dfc[\"musteri\"] == \"PRIMESOURCE BUILDING PRODUCTS,INC.\"]\n",
        "df = df[[\"ürün\", \"tarih\", \"kg\", \"tutar\"]]\n",
        "\n",
        "# ürün istatiksel bilgiler\n",
        "print(df.groupby(\"ürün\").agg({\"tutar\": [\"sum\",\"mean\",\"median\", \"std\"]}))\n",
        "\n",
        "print(\"#####################################################################\")\n",
        "print(\"#####################################################################\")\n",
        "\n",
        "# PRIMESOURCE grafiği\n",
        "df = df.groupby([pd.Grouper(key=\"tarih\", freq=\"M\"), \"ürün\"])[\"tutar\"].sum().reset_index()\n",
        "\n",
        "fig = px.bar(df, x=\"tarih\", y=\"tutar\", color=\"ürün\", barmode=\"group\")\n",
        "fig.update_layout(title={'text': 'PRIMESOURCE BUILDING PRODUCTS INC. ', 'x': 0.5},legend_title=None)\n",
        "fig.show()"
      ]
    },
    {
      "cell_type": "code",
      "source": [
        "# dfmetro değişkeninin oluşturulması\n",
        "df= dfc[dfc[\"musteri\"] == \"METROPOLITAN STAPLE CORP.\"]\n",
        "df= df[[\"ürün\", \"tarih\", \"kg\", \"tutar\"]]\n",
        "\n",
        "# dfmetro istatiksel bilgiler\n",
        "print(df.groupby(\"ürün\").agg({\"tutar\": [\"sum\",\"mean\",\"median\", \"std\"]}).sort_values(by = (\"tutar\", \"sum\"),ascending= False)\n",
        ")\n",
        "\n",
        "print(\"#####################################################################\")\n",
        "print(\"#####################################################################\")\n",
        "\n",
        "# METROPOLITAN grafiği\n",
        "df = df.groupby([pd.Grouper(key=\"tarih\", freq=\"M\"), \"ürün\"])[\"tutar\"].sum().reset_index()\n",
        "\n",
        "fig = px.bar(df, x=\"tarih\", y=\"tutar\", color=\"ürün\", barmode=\"group\")\n",
        "fig.update_layout(title={'text': 'METROPOLITAN STAPLE CORP.', 'x': 0.5},legend_title=None)\n",
        "fig.show()"
      ],
      "metadata": {
        "id": "fwGMc6_I7V9w"
      },
      "execution_count": null,
      "outputs": []
    },
    {
      "cell_type": "code",
      "source": [
        "# dfshandex değişkeninin oluştrulması\n",
        "df = dfc[dfc[\"musteri\"] == \"SHANDEX CO.\"]\n",
        "df = df[[\"ürün\", \"tarih\", \"kg\", \"tutar\"]]\n",
        "\n",
        "#dfshandex istatiksel bilgiler\n",
        "print(df.groupby(\"ürün\").agg({\"tutar\": [\"sum\",\"mean\",\"median\", \"std\"]}).sort_values(by = (\"tutar\", \"sum\"),ascending= False))\n",
        "\n",
        "print(\"#####################################################################\")\n",
        "print(\"#####################################################################\")\n",
        "\n",
        "# dfshandex grafiği\n",
        "df_grouped = df.groupby([pd.Grouper(key=\"tarih\", freq=\"M\"), \"ürün\"])[\"tutar\"].sum().reset_index()\n",
        "\n",
        "fig = px.bar(df_grouped, x=\"tarih\", y=\"tutar\", color=\"ürün\", barmode=\"group\")\n",
        "fig.update_layout(title={'text': 'SHANDEX CO.', 'x': 0.5},legend_title=None)\n",
        "fig.show()"
      ],
      "metadata": {
        "id": "arHUbAq77lMH"
      },
      "execution_count": null,
      "outputs": []
    },
    {
      "cell_type": "code",
      "source": [
        "df = dfc[dfc[\"musteri\"] == \"MATERIALES Y SOLUCIONES S.A.\"]\n",
        "df = df[[\"ürün\", \"tarih\", \"kg\", \"tutar\"]]\n",
        "\n",
        "\n",
        "df.groupby(\"ürün\").agg({\"tutar\": [\"sum\",\"mean\",\"median\", \"std\"]}).sort_values(by = (\"tutar\", \"sum\"),ascending= False)\n",
        "\n",
        "df_grouped = df.groupby([pd.Grouper(key=\"tarih\", freq=\"M\"), \"ürün\"])[\"tutar\"].sum().reset_index()\n",
        "\n",
        "print(df.groupby(\"ürün\").agg({\"tutar\": [\"sum\",\"mean\",\"median\", \"std\"]}).sort_values(by = (\"tutar\", \"sum\"),ascending= False))\n",
        "\n",
        "print(\"#####################################################################\")\n",
        "print(\"#####################################################################\")\n",
        "\n",
        "fig = px.bar(df_grouped, x=\"tarih\", y=\"tutar\", color=\"ürün\", barmode=\"group\")\n",
        "fig.update_layout(title={'text': 'MATERIALES Y SOLUCIONES S.A.', 'x': 0.5},legend_title=None)\n",
        "fig.show()"
      ],
      "metadata": {
        "id": "qnw2902b7s2X"
      },
      "execution_count": null,
      "outputs": []
    },
    {
      "cell_type": "code",
      "source": [
        "df= dfc[dfc[\"musteri\"] == \"JZW INTERNATIONAL DEVELOPMENT LLC.\"]\n",
        "df = df[[\"ürün\", \"tarih\", \"kg\", \"tutar\"]]\n",
        "\n",
        "df.groupby(\"ürün\").agg({\"tutar\": [\"sum\",\"mean\",\"median\", \"std\"]}).sort_values(by = (\"tutar\", \"sum\"),ascending= False)\n",
        "\n",
        "df_grouped = df.groupby([pd.Grouper(key=\"tarih\", freq=\"M\"), \"ürün\"])[\"tutar\"].sum().reset_index()\n",
        "print(df.groupby(\"ürün\").agg({\"tutar\": [\"sum\",\"mean\",\"median\", \"std\"]}).sort_values(by = (\"tutar\", \"sum\"),ascending= False))\n",
        "\n",
        "print(\"#####################################################################\")\n",
        "print(\"#####################################################################\")\n",
        "\n",
        "fig = px.bar(df_grouped, x=\"tarih\", y=\"tutar\", color=\"ürün\", barmode=\"group\")\n",
        "fig.update_layout(title={'text': 'JZW INTERNATIONAL DEVELOPMENT LLC.', 'x': 0.5},legend_title=None)"
      ],
      "metadata": {
        "id": "JmRowcZT7yMH"
      },
      "execution_count": null,
      "outputs": []
    },
    {
      "cell_type": "code",
      "source": [
        "df= dfc[dfc[\"musteri\"] == \"PISO Y PARED DE ESPANA SL\"]\n",
        "df = df[[\"ürün\", \"tarih\", \"kg\", \"tutar\"]]\n",
        "\n",
        "df.groupby(\"ürün\").agg({\"tutar\": [\"sum\",\"mean\",\"median\", \"std\"]}).sort_values(by = (\"tutar\", \"sum\"),ascending= False)\n",
        "\n",
        "df_grouped = df.groupby([pd.Grouper(key=\"tarih\", freq=\"M\"), \"ürün\"])[\"tutar\"].sum().reset_index()\n",
        "print(df.groupby(\"ürün\").agg({\"tutar\": [\"sum\",\"mean\",\"median\", \"std\"]}).sort_values(by = (\"tutar\", \"sum\"),ascending= False))\n",
        "\n",
        "print(\"#####################################################################\")\n",
        "print(\"#####################################################################\")\n",
        "\n",
        "fig = px.bar(df_grouped, x=\"tarih\", y=\"tutar\", color=\"ürün\", barmode=\"group\")\n",
        "fig.update_layout(title={'text': 'PISO Y PARED DE ESPANA SL\t', 'x': 0.5},legend_title=None)"
      ],
      "metadata": {
        "id": "DpTzSlTW78_w"
      },
      "execution_count": null,
      "outputs": []
    },
    {
      "cell_type": "code",
      "source": [
        "df= dfc[dfc[\"musteri\"] == \"PALLETS JAUREGUI SA.\"]\n",
        "df = df[[\"ürün\", \"tarih\", \"kg\", \"tutar\"]]\n",
        "\n",
        "df.groupby(\"ürün\").agg({\"tutar\": [\"sum\",\"mean\",\"median\", \"std\"]}).sort_values(by = (\"tutar\", \"sum\"),ascending= False)\n",
        "\n",
        "df_grouped = df.groupby([pd.Grouper(key=\"tarih\", freq=\"M\"), \"ürün\"])[\"tutar\"].sum().reset_index()\n",
        "print(df.groupby(\"ürün\").agg({\"tutar\": [\"sum\",\"mean\",\"median\", \"std\"]}).sort_values(by = (\"tutar\", \"sum\"),ascending= False))\n",
        "\n",
        "print(\"#####################################################################\")\n",
        "print(\"#####################################################################\")\n",
        "\n",
        "fig = px.bar(df_grouped, x=\"tarih\", y=\"tutar\", color=\"ürün\", barmode=\"group\")\n",
        "fig.update_layout(title={'text': 'PALLETS JAUREGUI SA.', 'x': 0.5}, legend_title=None)"
      ],
      "metadata": {
        "id": "DAUahU4s7_w3"
      },
      "execution_count": null,
      "outputs": []
    },
    {
      "cell_type": "code",
      "source": [
        "df= dfc[dfc[\"musteri\"] == \"METALHOUSE SUPPLY LLC\"]\n",
        "df = df[[\"ürün\", \"tarih\", \"kg\", \"tutar\"]]\n",
        "\n",
        "df.groupby(\"ürün\").agg({\"tutar\": [\"sum\",\"mean\",\"median\", \"std\"]}).sort_values(by = (\"tutar\", \"sum\"),ascending= False)\n",
        "\n",
        "df_grouped = df.groupby([pd.Grouper(key=\"tarih\", freq=\"M\"), \"ürün\"])[\"tutar\"].sum().reset_index()\n",
        "print(df.groupby(\"ürün\").agg({\"tutar\": [\"sum\",\"mean\",\"median\", \"std\"]}).sort_values(by = (\"tutar\", \"sum\"),ascending= False))\n",
        "\n",
        "print(\"#####################################################################\")\n",
        "print(\"#####################################################################\")\n",
        "\n",
        "fig = px.bar(df_grouped, x=\"tarih\", y=\"tutar\", color=\"ürün\", barmode=\"group\")\n",
        "fig.update_layout(title={'text': 'METALHOUSE SUPPLY LLC', 'x': 0.5}, legend_title=None)"
      ],
      "metadata": {
        "id": "zzFOad528FVf"
      },
      "execution_count": null,
      "outputs": []
    },
    {
      "cell_type": "code",
      "source": [
        "df= dfc[dfc[\"musteri\"] == \"EMBALATEC INDUSTRIAL LTDA.\"]\n",
        "df = df[[\"ürün\", \"tarih\", \"kg\", \"tutar\"]]\n",
        "\n",
        "df.groupby(\"ürün\").agg({\"tutar\": [\"sum\",\"mean\",\"median\", \"std\"]}).sort_values(by = (\"tutar\", \"sum\"),ascending= False)\n",
        "\n",
        "df_grouped = df.groupby([pd.Grouper(key=\"tarih\", freq=\"M\"), \"ürün\"])[\"tutar\"].sum().reset_index()\n",
        "print(df.groupby(\"ürün\").agg({\"tutar\": [\"sum\",\"mean\",\"median\", \"std\"]}).sort_values(by = (\"tutar\", \"sum\"),ascending= False))\n",
        "\n",
        "print(\"#####################################################################\")\n",
        "print(\"#####################################################################\")\n",
        "\n",
        "fig = px.bar(df_grouped, x=\"tarih\", y=\"tutar\", color=\"ürün\", barmode=\"group\")\n",
        "fig.update_layout(title={'text': 'EMBALATEC INDUSTRIAL LTDA.', 'x': 0.5}, legend_title=None)"
      ],
      "metadata": {
        "id": "kjZBDHMX8J1f"
      },
      "execution_count": null,
      "outputs": []
    },
    {
      "cell_type": "code",
      "source": [
        "df= dfc[dfc[\"musteri\"] == \"MID CORK PALLETS & PACKAGING LTD.\"]\n",
        "df = df[[\"ürün\", \"tarih\", \"kg\", \"tutar\"]]\n",
        "\n",
        "df.groupby(\"ürün\").agg({\"tutar\": [\"sum\",\"mean\",\"median\", \"std\"]}).sort_values(by = (\"tutar\", \"sum\"),ascending= False)\n",
        "\n",
        "df_grouped = df.groupby([pd.Grouper(key=\"tarih\", freq=\"M\"), \"ürün\"])[\"tutar\"].sum().reset_index()\n",
        "print(df.groupby(\"ürün\").agg({\"tutar\": [\"sum\",\"mean\",\"median\", \"std\"]}).sort_values(by = (\"tutar\", \"sum\"),ascending= False))\n",
        "\n",
        "print(\"#####################################################################\")\n",
        "print(\"#####################################################################\")\n",
        "\n",
        "fig = px.bar(df_grouped, x=\"tarih\", y=\"tutar\", color=\"ürün\", barmode=\"group\")\n",
        "fig.update_layout(title={'text': '\tMID CORK PALLETS & PACKAGING LTD.', 'x': 0.5}, legend_title=None)"
      ],
      "metadata": {
        "id": "aaby_i638N7w"
      },
      "execution_count": null,
      "outputs": []
    },
    {
      "cell_type": "code",
      "source": [
        "df= dfc[dfc[\"musteri\"] == \"DC INTERNATIONAL INC.\"]\n",
        "df = df[[\"ürün\", \"tarih\", \"kg\", \"tutar\"]]\n",
        "\n",
        "df.groupby(\"ürün\").agg({\"tutar\": [\"sum\",\"mean\",\"median\", \"std\"]}).sort_values(by = (\"tutar\", \"sum\"),ascending= False)\n",
        "\n",
        "df_grouped = df.groupby([pd.Grouper(key=\"tarih\", freq=\"M\"), \"ürün\"])[\"tutar\"].sum().reset_index()\n",
        "print(df.groupby(\"ürün\").agg({\"tutar\": [\"sum\",\"mean\",\"median\", \"std\"]}).sort_values(by = (\"tutar\", \"sum\"),ascending= False))\n",
        "\n",
        "print(\"#####################################################################\")\n",
        "print(\"#####################################################################\")\n",
        "\n",
        "fig = px.bar(df_grouped, x=\"tarih\", y=\"tutar\", color=\"ürün\", barmode=\"group\")\n",
        "fig.update_layout(title={'text': 'DC INTERNATIONAL INC.', 'x': 0.5}, legend_title=None)"
      ],
      "metadata": {
        "id": "QuNyVibh8TJh"
      },
      "execution_count": null,
      "outputs": []
    },
    {
      "cell_type": "code",
      "source": [
        "df= dfc[dfc[\"musteri\"] == \"MUNDOPALET, S.L.\"]\n",
        "df = df[[\"ürün\", \"tarih\", \"kg\", \"tutar\"]]\n",
        "\n",
        "df.groupby(\"ürün\").agg({\"tutar\": [\"sum\",\"mean\",\"median\", \"std\"]}).sort_values(by = (\"tutar\", \"sum\"),ascending= False)\n",
        "\n",
        "df_grouped = df.groupby([pd.Grouper(key=\"tarih\", freq=\"M\"), \"ürün\"])[\"tutar\"].sum().reset_index()\n",
        "print(df.groupby(\"ürün\").agg({\"tutar\": [\"sum\",\"mean\",\"median\", \"std\"]}).sort_values(by = (\"tutar\", \"sum\"),ascending= False))\n",
        "\n",
        "print(\"#####################################################################\")\n",
        "print(\"#####################################################################\")\n",
        "\n",
        "fig = px.bar(df_grouped, x=\"tarih\", y=\"tutar\", color=\"ürün\", barmode=\"group\")\n",
        "fig.update_layout(title={'text': 'MUNDOPALET, S.L.\t', 'x': 0.5}, legend_title=None)"
      ],
      "metadata": {
        "id": "hYD812dw8fRQ"
      },
      "execution_count": null,
      "outputs": []
    },
    {
      "cell_type": "code",
      "source": [
        "df= dfc[dfc[\"musteri\"] == \"HIT HOLZINDUSTRIE TORGAU GmbH & CO.KG\"]\n",
        "df = df[[\"ürün\", \"tarih\", \"kg\", \"tutar\"]]\n",
        "\n",
        "df.groupby(\"ürün\").agg({\"tutar\": [\"sum\",\"mean\",\"median\", \"std\"]}).sort_values(by = (\"tutar\", \"sum\"),ascending= False)\n",
        "\n",
        "df_grouped = df.groupby([pd.Grouper(key=\"tarih\", freq=\"M\"), \"ürün\"])[\"tutar\"].sum().reset_index()\n",
        "print(df.groupby(\"ürün\").agg({\"tutar\": [\"sum\",\"mean\",\"median\", \"std\"]}).sort_values(by = (\"tutar\", \"sum\"),ascending= False))\n",
        "\n",
        "print(\"#####################################################################\")\n",
        "print(\"#####################################################################\")\n",
        "\n",
        "fig = px.bar(df_grouped, x=\"tarih\", y=\"tutar\", color=\"ürün\", barmode=\"group\")\n",
        "fig.update_layout(title={'text': 'HIT HOLZINDUSTRIE TORGAU GmbH & CO.KG', 'x': 0.5}, legend_title=None)"
      ],
      "metadata": {
        "id": "xWhIEx3y8jxo"
      },
      "execution_count": null,
      "outputs": []
    },
    {
      "cell_type": "code",
      "source": [
        "df= dfc[dfc[\"musteri\"] == \"CJ SHEERAN LTD.\"]\n",
        "df = df[[\"ürün\", \"tarih\", \"kg\", \"tutar\"]]\n",
        "\n",
        "df.groupby(\"ürün\").agg({\"tutar\": [\"sum\",\"mean\",\"median\", \"std\"]}).sort_values(by = (\"tutar\", \"sum\"),ascending= False)\n",
        "\n",
        "df_grouped = df.groupby([pd.Grouper(key=\"tarih\", freq=\"M\"), \"ürün\"])[\"tutar\"].sum().reset_index()\n",
        "print(df.groupby(\"ürün\").agg({\"tutar\": [\"sum\",\"mean\",\"median\", \"std\"]}).sort_values(by = (\"tutar\", \"sum\"),ascending= False))\n",
        "\n",
        "print(\"#####################################################################\")\n",
        "print(\"#####################################################################\")\n",
        "\n",
        "fig = px.bar(df_grouped, x=\"tarih\", y=\"tutar\", color=\"ürün\", barmode=\"group\")\n",
        "fig.update_layout(title={'text': 'CJ SHEERAN LTD.', 'x': 0.5}, legend_title=None)"
      ],
      "metadata": {
        "id": "PMTLC_vm8nEA"
      },
      "execution_count": null,
      "outputs": []
    },
    {
      "cell_type": "code",
      "source": [
        "df= dfc[dfc[\"musteri\"] == \"FRANCEPAL S.A.\"]\n",
        "df = df[[\"ürün\", \"tarih\", \"kg\", \"tutar\"]]\n",
        "\n",
        "df.groupby(\"ürün\").agg({\"tutar\": [\"sum\",\"mean\",\"median\", \"std\"]}).sort_values(by = (\"tutar\", \"sum\"),ascending= False)\n",
        "\n",
        "df_grouped = df.groupby([pd.Grouper(key=\"tarih\", freq=\"M\"), \"ürün\"])[\"tutar\"].sum().reset_index()\n",
        "print(df.groupby(\"ürün\").agg({\"tutar\": [\"sum\",\"mean\",\"median\", \"std\"]}).sort_values(by = (\"tutar\", \"sum\"),ascending= False))\n",
        "\n",
        "print(\"#####################################################################\")\n",
        "print(\"#####################################################################\")\n",
        "\n",
        "fig = px.bar(df_grouped, x=\"tarih\", y=\"tutar\", color=\"ürün\", barmode=\"group\")\n",
        "fig.update_layout(title={'text': 'FRANCEPAL S.A.', 'x': 0.5}, legend_title=None)"
      ],
      "metadata": {
        "id": "OpAqLZ848qIh"
      },
      "execution_count": null,
      "outputs": []
    },
    {
      "cell_type": "code",
      "source": [
        "df= dfc[dfc[\"musteri\"] == \"PASINI S.R.L.\"]\n",
        "df = df[[\"ürün\", \"tarih\", \"kg\", \"tutar\"]]\n",
        "\n",
        "df.groupby(\"ürün\").agg({\"tutar\": [\"sum\",\"mean\",\"median\", \"std\"]}).sort_values(by = (\"tutar\", \"sum\"),ascending= False)\n",
        "\n",
        "df_grouped = df.groupby([pd.Grouper(key=\"tarih\", freq=\"M\"), \"ürün\"])[\"tutar\"].sum().reset_index()\n",
        "print(df.groupby(\"ürün\").agg({\"tutar\": [\"sum\",\"mean\",\"median\", \"std\"]}).sort_values(by = (\"tutar\", \"sum\"),ascending= False))\n",
        "\n",
        "print(\"#####################################################################\")\n",
        "print(\"#####################################################################\")\n",
        "\n",
        "fig = px.bar(df_grouped, x=\"tarih\", y=\"tutar\", color=\"ürün\", barmode=\"group\")\n",
        "fig.update_layout(title={'text': 'FRANCEPAL S.A.', 'x': 0.5}, legend_title=None)"
      ],
      "metadata": {
        "id": "9KXXMLzmB4Xz"
      },
      "execution_count": null,
      "outputs": []
    },
    {
      "cell_type": "code",
      "source": [
        "df= dfc[dfc[\"musteri\"] == \"SECURALL FASTENINGS LIMITED\"]\n",
        "df = df[[\"ürün\", \"tarih\", \"kg\", \"tutar\"]]\n",
        "\n",
        "df.groupby(\"ürün\").agg({\"tutar\": [\"sum\",\"mean\",\"median\", \"std\"]}).sort_values(by = (\"tutar\", \"sum\"),ascending= False)\n",
        "\n",
        "df_grouped = df.groupby([pd.Grouper(key=\"tarih\", freq=\"M\"), \"ürün\"])[\"tutar\"].sum().reset_index()\n",
        "print(df.groupby(\"ürün\").agg({\"tutar\": [\"sum\",\"mean\",\"median\", \"std\"]}).sort_values(by = (\"tutar\", \"sum\"),ascending= False))\n",
        "\n",
        "print(\"#####################################################################\")\n",
        "print(\"#####################################################################\")\n",
        "\n",
        "fig = px.bar(df_grouped, x=\"tarih\", y=\"tutar\", color=\"ürün\", barmode=\"group\")\n",
        "fig.update_layout(title={'text': 'SECURALL FASTENINGS LIMITED', 'x': 0.5}, legend_title=None)"
      ],
      "metadata": {
        "id": "q7cjlQdWB5ML"
      },
      "execution_count": null,
      "outputs": []
    },
    {
      "cell_type": "code",
      "source": [
        "df= dfc[dfc[\"musteri\"] == \"JOSÉ PEÑA LASTRA S.A\"]\n",
        "df = df[[\"ürün\", \"tarih\", \"kg\", \"tutar\"]]\n",
        "\n",
        "df.groupby(\"ürün\").agg({\"tutar\": [\"sum\",\"mean\",\"median\", \"std\"]}).sort_values(by = (\"tutar\", \"sum\"),ascending= False)\n",
        "\n",
        "df_grouped = df.groupby([pd.Grouper(key=\"tarih\", freq=\"M\"), \"ürün\"])[\"tutar\"].sum().reset_index()\n",
        "print(df.groupby(\"ürün\").agg({\"tutar\": [\"sum\",\"mean\",\"median\", \"std\"]}).sort_values(by = (\"tutar\", \"sum\"),ascending= False))\n",
        "\n",
        "print(\"#####################################################################\")\n",
        "print(\"#####################################################################\")\n",
        "\n",
        "fig = px.bar(df_grouped, x=\"tarih\", y=\"tutar\", color=\"ürün\", barmode=\"group\")\n",
        "fig.update_layout(title={'text': 'JOSÉ PEÑA LASTRA S.A', 'x': 0.5}, legend_title=None)"
      ],
      "metadata": {
        "id": "2WY0uopGB87c"
      },
      "execution_count": null,
      "outputs": []
    },
    {
      "cell_type": "code",
      "source": [
        "df= dfc[dfc[\"musteri\"] == \"PALETTEN ANDRIES N.V.\"]\n",
        "df = df[[\"ürün\", \"tarih\", \"kg\", \"tutar\"]]\n",
        "\n",
        "df.groupby(\"ürün\").agg({\"tutar\": [\"sum\",\"mean\",\"median\", \"std\"]}).sort_values(by = (\"tutar\", \"sum\"),ascending= False)\n",
        "\n",
        "df_grouped = df.groupby([pd.Grouper(key=\"tarih\", freq=\"M\"), \"ürün\"])[\"tutar\"].sum().reset_index()\n",
        "print(df.groupby(\"ürün\").agg({\"tutar\": [\"sum\",\"mean\",\"median\", \"std\"]}).sort_values(by = (\"tutar\", \"sum\"),ascending= False))\n",
        "\n",
        "print(\"#####################################################################\")\n",
        "print(\"#####################################################################\")\n",
        "\n",
        "fig = px.bar(df_grouped, x=\"tarih\", y=\"tutar\", color=\"ürün\", barmode=\"group\")\n",
        "fig.update_layout(title={'text': 'PALETTEN ANDRIES N.V.\t', 'x': 0.5}, legend_title=None)"
      ],
      "metadata": {
        "id": "SbEKBgcYCBMD"
      },
      "execution_count": null,
      "outputs": []
    },
    {
      "cell_type": "code",
      "source": [
        "df= dfc[dfc[\"musteri\"] == \"AZPIM MMC.\"]\n",
        "df = df[[\"ürün\", \"tarih\", \"kg\", \"tutar\"]]\n",
        "\n",
        "df.groupby(\"ürün\").agg({\"tutar\": [\"sum\",\"mean\",\"median\", \"std\"]}).sort_values(by = (\"tutar\", \"sum\"),ascending= False)\n",
        "\n",
        "df_grouped = df.groupby([pd.Grouper(key=\"tarih\", freq=\"M\"), \"ürün\"])[\"tutar\"].sum().reset_index()\n",
        "print(df.groupby(\"ürün\").agg({\"tutar\": [\"sum\",\"mean\",\"median\", \"std\"]}).sort_values(by = (\"tutar\", \"sum\"),ascending= False))\n",
        "\n",
        "print(\"#####################################################################\")\n",
        "print(\"#####################################################################\")\n",
        "\n",
        "fig = px.bar(df_grouped, x=\"tarih\", y=\"tutar\", color=\"ürün\", barmode=\"group\")\n",
        "fig.update_layout(title={'text': 'AZPIM MMC.', 'x': 0.5}, legend_title=None)"
      ],
      "metadata": {
        "id": "4lz1K_u6CFYD"
      },
      "execution_count": null,
      "outputs": []
    },
    {
      "cell_type": "code",
      "source": [
        "df= dfc[dfc[\"musteri\"] == \"JTS SAS\"]\n",
        "df = df[[\"ürün\", \"tarih\", \"kg\", \"tutar\"]]\n",
        "\n",
        "df.groupby(\"ürün\").agg({\"tutar\": [\"sum\",\"mean\",\"median\", \"std\"]}).sort_values(by = (\"tutar\", \"sum\"),ascending= False)\n",
        "\n",
        "df_grouped = df.groupby([pd.Grouper(key=\"tarih\", freq=\"M\"), \"ürün\"])[\"tutar\"].sum().reset_index()\n",
        "print(df.groupby(\"ürün\").agg({\"tutar\": [\"sum\",\"mean\",\"median\", \"std\"]}).sort_values(by = (\"tutar\", \"sum\"),ascending= False))\n",
        "\n",
        "print(\"#####################################################################\")\n",
        "print(\"#####################################################################\")\n",
        "\n",
        "fig = px.bar(df_grouped, x=\"tarih\", y=\"tutar\", color=\"ürün\", barmode=\"group\")\n",
        "fig.update_layout(title={'text': 'JTS SAS', 'x': 0.5}, legend_title=None)"
      ],
      "metadata": {
        "id": "0Xjfm3WOCGEL"
      },
      "execution_count": null,
      "outputs": []
    },
    {
      "cell_type": "code",
      "source": [
        "df= dfc[dfc[\"musteri\"] == \"CRANE POINT INDUSTRIAL LLC.\"]\n",
        "df = df[[\"ürün\", \"tarih\", \"kg\", \"tutar\"]]\n",
        "\n",
        "df.groupby(\"ürün\").agg({\"tutar\": [\"sum\",\"mean\",\"median\", \"std\"]}).sort_values(by = (\"tutar\", \"sum\"),ascending= False)\n",
        "\n",
        "df_grouped = df.groupby([pd.Grouper(key=\"tarih\", freq=\"M\"), \"ürün\"])[\"tutar\"].sum().reset_index()\n",
        "print(df.groupby(\"ürün\").agg({\"tutar\": [\"sum\",\"mean\",\"median\", \"std\"]}).sort_values(by = (\"tutar\", \"sum\"),ascending= False))\n",
        "\n",
        "print(\"#####################################################################\")\n",
        "print(\"#####################################################################\")\n",
        "\n",
        "fig = px.bar(df_grouped, x=\"tarih\", y=\"tutar\", color=\"ürün\", barmode=\"group\")\n",
        "fig.update_layout(title={'text': 'CRANE POINT INDUSTRIAL LLC.', 'x': 0.5}, legend_title=None)"
      ],
      "metadata": {
        "id": "a6nUDgXfCIST"
      },
      "execution_count": null,
      "outputs": []
    },
    {
      "cell_type": "code",
      "source": [
        "df= dfc[dfc[\"musteri\"] == \"CONSORCIO RIO BLANCO SA\"]\n",
        "df = df[[\"ürün\", \"tarih\", \"kg\", \"tutar\"]]\n",
        "\n",
        "df.groupby(\"ürün\").agg({\"tutar\": [\"sum\",\"mean\",\"median\", \"std\"]}).sort_values(by = (\"tutar\", \"sum\"),ascending= False)\n",
        "\n",
        "df_grouped = df.groupby([pd.Grouper(key=\"tarih\", freq=\"M\"), \"ürün\"])[\"tutar\"].sum().reset_index()\n",
        "print(df.groupby(\"ürün\").agg({\"tutar\": [\"sum\",\"mean\",\"median\", \"std\"]}).sort_values(by = (\"tutar\", \"sum\"),ascending= False))\n",
        "\n",
        "print(\"#####################################################################\")\n",
        "print(\"#####################################################################\")\n",
        "\n",
        "fig = px.bar(df_grouped, x=\"tarih\", y=\"tutar\", color=\"ürün\", barmode=\"group\")\n",
        "fig.update_layout(title={'text': 'CONSORCIO RIO BLANCO SA', 'x': 0.5}, legend_title=None)"
      ],
      "metadata": {
        "id": "44SyRWeyCObD"
      },
      "execution_count": null,
      "outputs": []
    },
    {
      "cell_type": "code",
      "source": [
        "df= dfc[dfc[\"musteri\"] == \"JOHN GEORGE & SONS LIMITED\"]\n",
        "df = df[[\"ürün\", \"tarih\", \"kg\", \"tutar\"]]\n",
        "\n",
        "df.groupby(\"ürün\").agg({\"tutar\": [\"sum\",\"mean\",\"median\", \"std\"]}).sort_values(by = (\"tutar\", \"sum\"),ascending= False)\n",
        "\n",
        "df_grouped = df.groupby([pd.Grouper(key=\"tarih\", freq=\"M\"), \"ürün\"])[\"tutar\"].sum().reset_index()\n",
        "print(df.groupby(\"ürün\").agg({\"tutar\": [\"sum\",\"mean\",\"median\", \"std\"]}).sort_values(by = (\"tutar\", \"sum\"),ascending= False))\n",
        "\n",
        "print(\"#####################################################################\")\n",
        "print(\"#####################################################################\")\n",
        "\n",
        "fig = px.bar(df_grouped, x=\"tarih\", y=\"tutar\", color=\"ürün\", barmode=\"group\")\n",
        "fig.update_layout(title={'text': 'JOHN GEORGE & SONS LIMITED', 'x': 0.5}, legend_title=None)"
      ],
      "metadata": {
        "id": "Cmxt99ALCVOV"
      },
      "execution_count": null,
      "outputs": []
    },
    {
      "cell_type": "code",
      "source": [
        "df= dfc[dfc[\"musteri\"] == \"CRISPO CANADA INC.\"]\n",
        "df = df[[\"ürün\", \"tarih\", \"kg\", \"tutar\"]]\n",
        "\n",
        "df.groupby(\"ürün\").agg({\"tutar\": [\"sum\",\"mean\",\"median\", \"std\"]}).sort_values(by = (\"tutar\", \"sum\"),ascending= False)\n",
        "\n",
        "df_grouped = df.groupby([pd.Grouper(key=\"tarih\", freq=\"M\"), \"ürün\"])[\"tutar\"].sum().reset_index()\n",
        "print(df.groupby(\"ürün\").agg({\"tutar\": [\"sum\",\"mean\",\"median\", \"std\"]}).sort_values(by = (\"tutar\", \"sum\"),ascending= False))\n",
        "\n",
        "print(\"#####################################################################\")\n",
        "print(\"#####################################################################\")\n",
        "\n",
        "fig = px.bar(df_grouped, x=\"tarih\", y=\"tutar\", color=\"ürün\", barmode=\"group\")\n",
        "fig.update_layout(title={'text': 'CRISPO CANADA INC.', 'x': 0.5}, legend_title=None)"
      ],
      "metadata": {
        "id": "8mf5KzqJCX0U"
      },
      "execution_count": null,
      "outputs": []
    }
  ]
}